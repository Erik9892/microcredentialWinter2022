{
  "nbformat": 4,
  "nbformat_minor": 0,
  "metadata": {
    "colab": {
      "name": "EIMiniprjday4.ipynb",
      "provenance": [],
      "collapsed_sections": [],
      "authorship_tag": "ABX9TyPFFpPmEZtLxbzBwAzEIH1x",
      "include_colab_link": true
    },
    "kernelspec": {
      "name": "python3",
      "display_name": "Python 3"
    },
    "language_info": {
      "name": "python"
    }
  },
  "cells": [
    {
      "cell_type": "markdown",
      "metadata": {
        "id": "view-in-github",
        "colab_type": "text"
      },
      "source": [
        "<a href=\"https://colab.research.google.com/github/Erik9892/microcredentialWinter2022/blob/main/EIMiniprjday4.ipynb\" target=\"_parent\"><img src=\"https://colab.research.google.com/assets/colab-badge.svg\" alt=\"Open In Colab\"/></a>"
      ]
    },
    {
      "cell_type": "code",
      "execution_count": null,
      "metadata": {
        "id": "oHT_c0owCJvd"
      },
      "outputs": [],
      "source": [
        "#define iseven\n",
        "def iseven(num):\n",
        "#divide the number by two\n",
        "  if num%2==0 and num%4!=0:\n",
        "#print the number is even if it's divisible by two\n",
        "    print(num, \"is even\")\n",
        "  if num%4==0:\n",
        "    print(num ,\"is a multiple of 4\")\n",
        "  else:\n",
        "#print the number is odd if it is not divisible by two\n",
        "    print(num,\"is odd\")"
      ]
    },
    {
      "cell_type": "code",
      "source": [
        "#enter a number\n",
        "num=int(input(\"Enter a number:\"))\n",
        "#call the function\n",
        "iseven(num)"
      ],
      "metadata": {
        "colab": {
          "base_uri": "https://localhost:8080/"
        },
        "id": "pWg33F3vCMtO",
        "outputId": "6838a2a9-dd34-4c41-f2c3-6ee24b6ab186"
      },
      "execution_count": null,
      "outputs": [
        {
          "output_type": "stream",
          "name": "stdout",
          "text": [
            "Enter a number:8\n",
            "8 is a multiple of 4\n"
          ]
        }
      ]
    },
    {
      "cell_type": "code",
      "source": [
        "#enter the number\n",
        "num = int(input(\"Enter a value do you like the result\")) \n",
        "#enter the check \n",
        "check = int(input(\"Enter a value do you like the result\")) \n",
        "#divide the number by the check\n",
        "if (num % check) == 0: \n",
        "#the number is divisible by the check\n",
        "  print(\"check divides evenly into num\") \n",
        "else: \n",
        "  #the number isn't divisible by the check\n",
        "  print(\"Check does not divide evenly into num\")"
      ],
      "metadata": {
        "colab": {
          "base_uri": "https://localhost:8080/"
        },
        "id": "yZ8743AaCTzD",
        "outputId": "c696558f-836c-4090-fc59-9c6808ea6ae3"
      },
      "execution_count": null,
      "outputs": [
        {
          "output_type": "stream",
          "name": "stdout",
          "text": [
            "Enter a value do you like the result40\n",
            "Enter a value do you like the result10\n",
            "check divides evenly into num\n"
          ]
        }
      ]
    },
    {
      "cell_type": "code",
      "source": [
        ""
      ],
      "metadata": {
        "id": "UAa3P0ImCg39"
      },
      "execution_count": null,
      "outputs": []
    }
  ]
}